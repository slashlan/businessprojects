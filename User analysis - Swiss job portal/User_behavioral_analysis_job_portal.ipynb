{
 "cells": [
  {
   "cell_type": "markdown",
   "id": "d6231f16",
   "metadata": {},
   "source": [
    "# User behavioral analysis - Swiss top job portal\n",
    "\n",
    "FOR STREAMLIT DASHBOARD, USE PYTHON SCRIPT \"User_behavioral_analysis_dashboard.py\"\n",
    "- 1) Overview\n",
    "- 2) Exploratory Data Analysis\n",
    "    - 2.1) How many clicks does a user make? In how many different regions?\n",
    "    - 2.2) Which are the most clicked jobs, sectors and work regions?\n",
    "    - 2.3) Are there differences between logged-in users and anonymous sessions?"
   ]
  },
  {
   "cell_type": "markdown",
   "id": "0ea79790",
   "metadata": {},
   "source": [
    "## 1) Overview datasets and merge"
   ]
  },
  {
   "cell_type": "code",
   "execution_count": 1,
   "id": "3c785898",
   "metadata": {},
   "outputs": [],
   "source": [
    "import pandas as pd\n",
    "import numpy as np\n",
    "import matplotlib.pyplot as plt\n",
    "%matplotlib inline\n",
    "import seaborn as sns"
   ]
  },
  {
   "cell_type": "code",
   "execution_count": 2,
   "id": "3e0b5345",
   "metadata": {},
   "outputs": [
    {
     "name": "stdout",
     "output_type": "stream",
     "text": [
      "Number of records: 6680772 \n",
      "\n",
      "Number of unique user IDs: 852775 \n",
      "\n",
      "Number of unique job IDs: 182706\n"
     ]
    },
    {
     "data": {
      "text/html": [
       "<div>\n",
       "<style scoped>\n",
       "    .dataframe tbody tr th:only-of-type {\n",
       "        vertical-align: middle;\n",
       "    }\n",
       "\n",
       "    .dataframe tbody tr th {\n",
       "        vertical-align: top;\n",
       "    }\n",
       "\n",
       "    .dataframe thead th {\n",
       "        text-align: right;\n",
       "    }\n",
       "</style>\n",
       "<table border=\"1\" class=\"dataframe\">\n",
       "  <thead>\n",
       "    <tr style=\"text-align: right;\">\n",
       "      <th></th>\n",
       "      <th>userId</th>\n",
       "      <th>jobId</th>\n",
       "      <th>dateYM</th>\n",
       "      <th>nsession</th>\n",
       "      <th>loggedIn</th>\n",
       "    </tr>\n",
       "  </thead>\n",
       "  <tbody>\n",
       "    <tr>\n",
       "      <th>0</th>\n",
       "      <td>00000000-2966-46d5-ffff-ffffc41afe34</td>\n",
       "      <td>7b660fb5-569c-4437-8a46-017385741663</td>\n",
       "      <td>2021-12-06</td>\n",
       "      <td>1</td>\n",
       "      <td>False</td>\n",
       "    </tr>\n",
       "    <tr>\n",
       "      <th>1</th>\n",
       "      <td>00000000-2966-bb95-ffff-ffffb02a6c56</td>\n",
       "      <td>168d7a4f-97ff-40a6-9ec7-0e35b6cf2506</td>\n",
       "      <td>2021-12-08</td>\n",
       "      <td>1</td>\n",
       "      <td>False</td>\n",
       "    </tr>\n",
       "    <tr>\n",
       "      <th>2</th>\n",
       "      <td>00000000-2966-bb95-ffff-ffffb02a6c56</td>\n",
       "      <td>1716c667-8586-441e-99a9-16fb7b2f481d</td>\n",
       "      <td>2021-12-08</td>\n",
       "      <td>1</td>\n",
       "      <td>False</td>\n",
       "    </tr>\n",
       "    <tr>\n",
       "      <th>3</th>\n",
       "      <td>00000000-2966-bb95-ffff-ffffb02a6c56</td>\n",
       "      <td>2d269efd-72c0-479e-90c3-97221b744e2e</td>\n",
       "      <td>2021-12-07</td>\n",
       "      <td>1</td>\n",
       "      <td>False</td>\n",
       "    </tr>\n",
       "    <tr>\n",
       "      <th>4</th>\n",
       "      <td>00000000-2966-bb95-ffff-ffffb02a6c56</td>\n",
       "      <td>4516bb7f-0b34-4536-bb2b-510838de85fc</td>\n",
       "      <td>2021-12-08</td>\n",
       "      <td>1</td>\n",
       "      <td>False</td>\n",
       "    </tr>\n",
       "  </tbody>\n",
       "</table>\n",
       "</div>"
      ],
      "text/plain": [
       "                                 userId                                 jobId  \\\n",
       "0  00000000-2966-46d5-ffff-ffffc41afe34  7b660fb5-569c-4437-8a46-017385741663   \n",
       "1  00000000-2966-bb95-ffff-ffffb02a6c56  168d7a4f-97ff-40a6-9ec7-0e35b6cf2506   \n",
       "2  00000000-2966-bb95-ffff-ffffb02a6c56  1716c667-8586-441e-99a9-16fb7b2f481d   \n",
       "3  00000000-2966-bb95-ffff-ffffb02a6c56  2d269efd-72c0-479e-90c3-97221b744e2e   \n",
       "4  00000000-2966-bb95-ffff-ffffb02a6c56  4516bb7f-0b34-4536-bb2b-510838de85fc   \n",
       "\n",
       "       dateYM  nsession  loggedIn  \n",
       "0  2021-12-06         1     False  \n",
       "1  2021-12-08         1     False  \n",
       "2  2021-12-08         1     False  \n",
       "3  2021-12-07         1     False  \n",
       "4  2021-12-08         1     False  "
      ]
     },
     "execution_count": 2,
     "metadata": {},
     "output_type": "execute_result"
    }
   ],
   "source": [
    "# Load clicks dataset\n",
    "df_c = pd.read_csv('jobs_ad_clicks.csv')\n",
    "\n",
    "print('Number of records:', df_c.shape[0], '\\n')\n",
    "print('Number of unique user IDs:', df_c['userId'].nunique(), '\\n')\n",
    "print('Number of unique job IDs:', df_c['jobId'].nunique())\n",
    "df_c.head()"
   ]
  },
  {
   "cell_type": "code",
   "execution_count": 3,
   "id": "f81773f0",
   "metadata": {},
   "outputs": [
    {
     "name": "stdout",
     "output_type": "stream",
     "text": [
      "Number of job IDs: 67023 \n",
      "\n"
     ]
    },
    {
     "data": {
      "text/html": [
       "<div>\n",
       "<style scoped>\n",
       "    .dataframe tbody tr th:only-of-type {\n",
       "        vertical-align: middle;\n",
       "    }\n",
       "\n",
       "    .dataframe tbody tr th {\n",
       "        vertical-align: top;\n",
       "    }\n",
       "\n",
       "    .dataframe thead th {\n",
       "        text-align: right;\n",
       "    }\n",
       "</style>\n",
       "<table border=\"1\" class=\"dataframe\">\n",
       "  <thead>\n",
       "    <tr style=\"text-align: right;\">\n",
       "      <th></th>\n",
       "      <th>jobId</th>\n",
       "      <th>place</th>\n",
       "      <th>zip</th>\n",
       "      <th>title</th>\n",
       "      <th>sector</th>\n",
       "      <th>workregion</th>\n",
       "      <th>pub_datum</th>\n",
       "    </tr>\n",
       "  </thead>\n",
       "  <tbody>\n",
       "    <tr>\n",
       "      <th>0</th>\n",
       "      <td>36e2eb59-8656-4d25-93d7-8ee388341ea4</td>\n",
       "      <td>Zug / Luzern / Muri / Rotkreuz / Zürich / Cham</td>\n",
       "      <td>NaN</td>\n",
       "      <td>Käseexperte als Leiter Beschaffung, Mitglied d...</td>\n",
       "      <td>jobsse-21</td>\n",
       "      <td>:11:1:</td>\n",
       "      <td>2021-10-25 08:32:42</td>\n",
       "    </tr>\n",
       "    <tr>\n",
       "      <th>1</th>\n",
       "      <td>ca13a54a-7b11-431f-a673-8ac209f9c8f8</td>\n",
       "      <td>Buchs AG</td>\n",
       "      <td>5033</td>\n",
       "      <td>Category Manager (m/w/d)</td>\n",
       "      <td>jobsse-0</td>\n",
       "      <td>:8:</td>\n",
       "      <td>2021-10-19 10:32:29</td>\n",
       "    </tr>\n",
       "    <tr>\n",
       "      <th>2</th>\n",
       "      <td>a8bf513f-ded4-40c9-9145-fa9de15df6fd</td>\n",
       "      <td>Zürich</td>\n",
       "      <td>8001</td>\n",
       "      <td>AssistentIn Leitung Stadtärztlicher Dienst</td>\n",
       "      <td>jobsse-16</td>\n",
       "      <td>:3:</td>\n",
       "      <td>2021-10-29 13:34:30</td>\n",
       "    </tr>\n",
       "    <tr>\n",
       "      <th>3</th>\n",
       "      <td>a71b29ed-c2ca-4a22-9143-5a928002587d</td>\n",
       "      <td>Gland</td>\n",
       "      <td>1196</td>\n",
       "      <td>MECANICIEN/NE VELO (F/H)</td>\n",
       "      <td>jobsse-0</td>\n",
       "      <td>:19:</td>\n",
       "      <td>2021-10-12 18:32:43</td>\n",
       "    </tr>\n",
       "    <tr>\n",
       "      <th>4</th>\n",
       "      <td>583ff476-41c9-4229-8958-e24f1f507058</td>\n",
       "      <td>Bern</td>\n",
       "      <td>3027</td>\n",
       "      <td>SAP Integrations- und Change-Spezialistin/-Spe...</td>\n",
       "      <td>jobsse-16</td>\n",
       "      <td>:9:</td>\n",
       "      <td>2021-10-20 05:02:52</td>\n",
       "    </tr>\n",
       "  </tbody>\n",
       "</table>\n",
       "</div>"
      ],
      "text/plain": [
       "                                  jobId  \\\n",
       "0  36e2eb59-8656-4d25-93d7-8ee388341ea4   \n",
       "1  ca13a54a-7b11-431f-a673-8ac209f9c8f8   \n",
       "2  a8bf513f-ded4-40c9-9145-fa9de15df6fd   \n",
       "3  a71b29ed-c2ca-4a22-9143-5a928002587d   \n",
       "4  583ff476-41c9-4229-8958-e24f1f507058   \n",
       "\n",
       "                                            place   zip  \\\n",
       "0  Zug / Luzern / Muri / Rotkreuz / Zürich / Cham   NaN   \n",
       "1                                        Buchs AG  5033   \n",
       "2                                          Zürich  8001   \n",
       "3                                           Gland  1196   \n",
       "4                                            Bern  3027   \n",
       "\n",
       "                                               title     sector workregion  \\\n",
       "0  Käseexperte als Leiter Beschaffung, Mitglied d...  jobsse-21     :11:1:   \n",
       "1                           Category Manager (m/w/d)   jobsse-0        :8:   \n",
       "2         AssistentIn Leitung Stadtärztlicher Dienst  jobsse-16        :3:   \n",
       "3                           MECANICIEN/NE VELO (F/H)   jobsse-0       :19:   \n",
       "4  SAP Integrations- und Change-Spezialistin/-Spe...  jobsse-16        :9:   \n",
       "\n",
       "             pub_datum  \n",
       "0  2021-10-25 08:32:42  \n",
       "1  2021-10-19 10:32:29  \n",
       "2  2021-10-29 13:34:30  \n",
       "3  2021-10-12 18:32:43  \n",
       "4  2021-10-20 05:02:52  "
      ]
     },
     "execution_count": 3,
     "metadata": {},
     "output_type": "execute_result"
    }
   ],
   "source": [
    "# Load job ads details dataset\n",
    "df_j = pd.read_csv('dfmeta_jobs_filtered_v2.csv', encoding= 'unicode_escape')\n",
    "\n",
    "print('Number of job IDs:', df_j.shape[0], '\\n')\n",
    "df_j.head()"
   ]
  },
  {
   "cell_type": "markdown",
   "id": "b6eddf50",
   "metadata": {},
   "source": [
    "### Merge dataset on job ID column\n",
    "After merging the two datasets on the job ID column, the final dataset available for the analysis is made of:\n",
    "- 5'278'368 records (unique job ad clicks per user)\n",
    "- 63'832 unique job ads\n",
    "- 782'084 unique users\n",
    "- Ads publication dates range between April 1st, 2021 and December 14, 2021 \n",
    "- Ads click dates span between October 28th, 2021 and December 15, 2021"
   ]
  },
  {
   "cell_type": "code",
   "execution_count": 4,
   "id": "22bf8e1f",
   "metadata": {},
   "outputs": [
    {
     "name": "stdout",
     "output_type": "stream",
     "text": [
      "Number of records: 5278368 \n",
      "\n",
      "Number of unique user IDs: 782084 \n",
      "\n",
      "Number of unique job IDs: 63832 \n",
      "\n",
      "Ads click dates range: 2021-10-28 00:00:00 - 2021-12-15 00:00:00 \n",
      "\n",
      "Ads publication dates range: 2021-04-01 14:18:42 - 2021-12-14 00:03:55 \n",
      "\n",
      "Missing data by column: \n",
      " userId              0\n",
      "jobId               0\n",
      "dateYM              0\n",
      "nsession            0\n",
      "loggedIn            0\n",
      "place          278566\n",
      "zip           1427734\n",
      "title          277882\n",
      "sector         277882\n",
      "workregion     277909\n",
      "pub_datum      277882\n",
      "dtype: int64 \n",
      "\n"
     ]
    },
    {
     "data": {
      "text/html": [
       "<div>\n",
       "<style scoped>\n",
       "    .dataframe tbody tr th:only-of-type {\n",
       "        vertical-align: middle;\n",
       "    }\n",
       "\n",
       "    .dataframe tbody tr th {\n",
       "        vertical-align: top;\n",
       "    }\n",
       "\n",
       "    .dataframe thead th {\n",
       "        text-align: right;\n",
       "    }\n",
       "</style>\n",
       "<table border=\"1\" class=\"dataframe\">\n",
       "  <thead>\n",
       "    <tr style=\"text-align: right;\">\n",
       "      <th></th>\n",
       "      <th>userId</th>\n",
       "      <th>jobId</th>\n",
       "      <th>dateYM</th>\n",
       "      <th>nsession</th>\n",
       "      <th>loggedIn</th>\n",
       "      <th>place</th>\n",
       "      <th>zip</th>\n",
       "      <th>title</th>\n",
       "      <th>sector</th>\n",
       "      <th>workregion</th>\n",
       "      <th>pub_datum</th>\n",
       "    </tr>\n",
       "  </thead>\n",
       "  <tbody>\n",
       "    <tr>\n",
       "      <th>0</th>\n",
       "      <td>00000000-2966-46d5-ffff-ffffc41afe34</td>\n",
       "      <td>7b660fb5-569c-4437-8a46-017385741663</td>\n",
       "      <td>2021-12-06</td>\n",
       "      <td>1</td>\n",
       "      <td>False</td>\n",
       "      <td>Region Zürich</td>\n",
       "      <td>NaN</td>\n",
       "      <td>Divisional Head Application Suite (w/m) - ID 6...</td>\n",
       "      <td>jobsse-13</td>\n",
       "      <td>:5:11:</td>\n",
       "      <td>2021-12-06 09:02:20</td>\n",
       "    </tr>\n",
       "    <tr>\n",
       "      <th>1</th>\n",
       "      <td>00cfb878-2848-49b9-a0da-90a8c73b388b</td>\n",
       "      <td>7b660fb5-569c-4437-8a46-017385741663</td>\n",
       "      <td>2021-12-06</td>\n",
       "      <td>3</td>\n",
       "      <td>False</td>\n",
       "      <td>Region Zürich</td>\n",
       "      <td>NaN</td>\n",
       "      <td>Divisional Head Application Suite (w/m) - ID 6...</td>\n",
       "      <td>jobsse-13</td>\n",
       "      <td>:5:11:</td>\n",
       "      <td>2021-12-06 09:02:20</td>\n",
       "    </tr>\n",
       "    <tr>\n",
       "      <th>2</th>\n",
       "      <td>02628c72-e19b-4277-b7e5-5246bdbd0cd7</td>\n",
       "      <td>7b660fb5-569c-4437-8a46-017385741663</td>\n",
       "      <td>2021-12-06</td>\n",
       "      <td>1</td>\n",
       "      <td>False</td>\n",
       "      <td>Region Zürich</td>\n",
       "      <td>NaN</td>\n",
       "      <td>Divisional Head Application Suite (w/m) - ID 6...</td>\n",
       "      <td>jobsse-13</td>\n",
       "      <td>:5:11:</td>\n",
       "      <td>2021-12-06 09:02:20</td>\n",
       "    </tr>\n",
       "    <tr>\n",
       "      <th>3</th>\n",
       "      <td>09550379-cbcc-44cc-9390-56251cbd76cf</td>\n",
       "      <td>7b660fb5-569c-4437-8a46-017385741663</td>\n",
       "      <td>2021-12-06</td>\n",
       "      <td>1</td>\n",
       "      <td>False</td>\n",
       "      <td>Region Zürich</td>\n",
       "      <td>NaN</td>\n",
       "      <td>Divisional Head Application Suite (w/m) - ID 6...</td>\n",
       "      <td>jobsse-13</td>\n",
       "      <td>:5:11:</td>\n",
       "      <td>2021-12-06 09:02:20</td>\n",
       "    </tr>\n",
       "    <tr>\n",
       "      <th>4</th>\n",
       "      <td>0fe39d9d-1c20-443e-9512-bac0686e6563</td>\n",
       "      <td>7b660fb5-569c-4437-8a46-017385741663</td>\n",
       "      <td>2021-12-07</td>\n",
       "      <td>1</td>\n",
       "      <td>False</td>\n",
       "      <td>Region Zürich</td>\n",
       "      <td>NaN</td>\n",
       "      <td>Divisional Head Application Suite (w/m) - ID 6...</td>\n",
       "      <td>jobsse-13</td>\n",
       "      <td>:5:11:</td>\n",
       "      <td>2021-12-06 09:02:20</td>\n",
       "    </tr>\n",
       "  </tbody>\n",
       "</table>\n",
       "</div>"
      ],
      "text/plain": [
       "                                 userId                                 jobId  \\\n",
       "0  00000000-2966-46d5-ffff-ffffc41afe34  7b660fb5-569c-4437-8a46-017385741663   \n",
       "1  00cfb878-2848-49b9-a0da-90a8c73b388b  7b660fb5-569c-4437-8a46-017385741663   \n",
       "2  02628c72-e19b-4277-b7e5-5246bdbd0cd7  7b660fb5-569c-4437-8a46-017385741663   \n",
       "3  09550379-cbcc-44cc-9390-56251cbd76cf  7b660fb5-569c-4437-8a46-017385741663   \n",
       "4  0fe39d9d-1c20-443e-9512-bac0686e6563  7b660fb5-569c-4437-8a46-017385741663   \n",
       "\n",
       "      dateYM  nsession  loggedIn          place  zip  \\\n",
       "0 2021-12-06         1     False  Region Zürich  NaN   \n",
       "1 2021-12-06         3     False  Region Zürich  NaN   \n",
       "2 2021-12-06         1     False  Region Zürich  NaN   \n",
       "3 2021-12-06         1     False  Region Zürich  NaN   \n",
       "4 2021-12-07         1     False  Region Zürich  NaN   \n",
       "\n",
       "                                               title     sector workregion  \\\n",
       "0  Divisional Head Application Suite (w/m) - ID 6...  jobsse-13     :5:11:   \n",
       "1  Divisional Head Application Suite (w/m) - ID 6...  jobsse-13     :5:11:   \n",
       "2  Divisional Head Application Suite (w/m) - ID 6...  jobsse-13     :5:11:   \n",
       "3  Divisional Head Application Suite (w/m) - ID 6...  jobsse-13     :5:11:   \n",
       "4  Divisional Head Application Suite (w/m) - ID 6...  jobsse-13     :5:11:   \n",
       "\n",
       "            pub_datum  \n",
       "0 2021-12-06 09:02:20  \n",
       "1 2021-12-06 09:02:20  \n",
       "2 2021-12-06 09:02:20  \n",
       "3 2021-12-06 09:02:20  \n",
       "4 2021-12-06 09:02:20  "
      ]
     },
     "execution_count": 4,
     "metadata": {},
     "output_type": "execute_result"
    }
   ],
   "source": [
    "# Merge two datasets\n",
    "df = df_c.merge(df_j, how='inner', on='jobId')\n",
    "\n",
    "# Assign correct datatypes\n",
    "df['dateYM'] = pd.to_datetime(df['dateYM'])\n",
    "df['pub_datum'] = pd.to_datetime(df['pub_datum'])\n",
    "df['place'] = df['place'].astype('category')\n",
    "df['sector'] = df['sector'].astype('category')\n",
    "\n",
    "\n",
    "# Print basic details\n",
    "print('Number of records:', df.shape[0], '\\n')\n",
    "print('Number of unique user IDs:', df['userId'].nunique(), '\\n')\n",
    "print('Number of unique job IDs:', df['jobId'].nunique(), '\\n')\n",
    "print('Ads click dates range:', df['dateYM'].min(), '-', df['dateYM'].max(), '\\n')\n",
    "print('Ads publication dates range:', df['pub_datum'].min(), '-', df['pub_datum'].max(), '\\n')\n",
    "print('Missing data by column:', '\\n', df.isnull().sum(), '\\n')\n",
    "\n",
    "df.head()"
   ]
  },
  {
   "cell_type": "markdown",
   "id": "095adf63",
   "metadata": {},
   "source": [
    "### Missing values\n",
    "Approximately 5% (277'882/5'278'368) of records lacks info about all the job ad details and can therefore be dropped from the sample before the analysis."
   ]
  },
  {
   "cell_type": "code",
   "execution_count": null,
   "id": "e6c3110d",
   "metadata": {},
   "outputs": [],
   "source": [
    "# Visualize patterns in missing values present in the data\n",
    "plt.figure(figsize=(18,8))\n",
    "sns.heatmap(df.isnull(), cbar=False)\n",
    "plt.ylabel('Index number', fontweight='light', fontsize=12)\n",
    "plt.xticks(rotation=45, ha=\"right\")\n",
    "plt.title('Patterns in missing values (white dashes)')\n",
    "plt.show()"
   ]
  },
  {
   "cell_type": "code",
   "execution_count": 5,
   "id": "b1953789",
   "metadata": {},
   "outputs": [
    {
     "name": "stdout",
     "output_type": "stream",
     "text": [
      "Number of records: 5000486 \n",
      "\n",
      "Number of unique user IDs: 782084 \n",
      "\n",
      "Number of unique job IDs: 63832 \n",
      "\n",
      "Ads click dates range: 2021-10-28 00:00:00 - 2021-12-15 00:00:00 \n",
      "\n",
      "Ads publication dates range: 2021-04-01 14:18:42 - 2021-12-14 00:03:55 \n",
      "\n",
      "Missing data by column: \n",
      " userId              0\n",
      "jobId               0\n",
      "dateYM              0\n",
      "nsession            0\n",
      "loggedIn            0\n",
      "place             684\n",
      "zip           1149852\n",
      "title               0\n",
      "sector              0\n",
      "workregion         27\n",
      "pub_datum           0\n",
      "dtype: int64 \n",
      "\n"
     ]
    }
   ],
   "source": [
    "# Drop observations missing job ads details (5% of total sample)\n",
    "df = df.dropna(thresh=df.shape[1]*0.66).copy()\n",
    "\n",
    "# Print basic details\n",
    "print('Number of records:', df.shape[0], '\\n')\n",
    "print('Number of unique user IDs:', df['userId'].nunique(), '\\n')\n",
    "print('Number of unique job IDs:', df['jobId'].nunique(), '\\n')\n",
    "print('Ads click dates range:', df['dateYM'].min(), '-', df['dateYM'].max(), '\\n')\n",
    "print('Ads publication dates range:', df['pub_datum'].min(), '-', df['pub_datum'].max(), '\\n')\n",
    "print('Missing data by column:', '\\n', df.isnull().sum(), '\\n')"
   ]
  },
  {
   "cell_type": "code",
   "execution_count": 6,
   "id": "e921366c",
   "metadata": {},
   "outputs": [
    {
     "data": {
      "text/plain": [
       "workregion\n",
       ":5:11:                                    Region Zürich\n",
       ":10:                                              Basel\n",
       ":4:2:                                          Wetzikon\n",
       ":3:                                              Zürich\n",
       ":11:                                                Zug\n",
       "                               ...                     \n",
       ":14:3:                                           Dublin\n",
       ":14:22:        St.Gallen (CH)/Freiburg im Breisgau (DE)\n",
       ":15:18:    Home-Office, Region Oberwallis oder Freiburg\n",
       ":18:8:                                          Kerzers\n",
       ":14:23:                                         Balzers\n",
       "Name: place, Length: 358, dtype: category\n",
       "Categories (5261, object): ['(Vaduz/Triesen)', '-', '.', '.Zürich', ..., 'Östlichen Raum Zürich, AR, SG, GB, GL, LIE', 'Östlicher Teil des Kantons Aargau', 'à Genève', 'à Niederwangen (BE)']"
      ]
     },
     "execution_count": 6,
     "metadata": {},
     "output_type": "execute_result"
    }
   ],
   "source": [
    "# Fill missing values by mapping work region-place columns\n",
    "mapping = (df[df['place'].notnull()].drop_duplicates('workregion').set_index('workregion').place)\n",
    "mapping"
   ]
  },
  {
   "cell_type": "code",
   "execution_count": 7,
   "id": "3f74ba6e",
   "metadata": {},
   "outputs": [
    {
     "name": "stdout",
     "output_type": "stream",
     "text": [
      "Number of records: 5000486 \n",
      "\n",
      "Number of unique user IDs: 782084 \n",
      "\n",
      "Number of unique job IDs: 63832 \n",
      "\n",
      "Ads click dates range: 2021-10-28 00:00:00 - 2021-12-15 00:00:00 \n",
      "\n",
      "Ads publication dates range: 2021-04-01 14:18:42 - 2021-12-14 00:03:55 \n",
      "\n",
      "Missing data by column: \n",
      " userId              0\n",
      "jobId               0\n",
      "dateYM              0\n",
      "nsession            0\n",
      "loggedIn            0\n",
      "place              10\n",
      "zip           1149852\n",
      "title               0\n",
      "sector              0\n",
      "workregion         27\n",
      "pub_datum           0\n",
      "dtype: int64 \n",
      "\n"
     ]
    }
   ],
   "source": [
    "# Fill missing values in \"place\" by mapping \"workregion\"\n",
    "df['place'] = df['workregion'].map(mapping).fillna(np.nan)\n",
    "\n",
    "# Print basic details\n",
    "print('Number of records:', df.shape[0], '\\n')\n",
    "print('Number of unique user IDs:', df['userId'].nunique(), '\\n')\n",
    "print('Number of unique job IDs:', df['jobId'].nunique(), '\\n')\n",
    "print('Ads click dates range:', df['dateYM'].min(), '-', df['dateYM'].max(), '\\n')\n",
    "print('Ads publication dates range:', df['pub_datum'].min(), '-', df['pub_datum'].max(), '\\n')\n",
    "print('Missing data by column:', '\\n', df.isnull().sum(), '\\n')"
   ]
  },
  {
   "cell_type": "markdown",
   "id": "fb78d0d6",
   "metadata": {},
   "source": [
    "### Duplicates\n",
    "- The data sample doesn't have duplicated records.\n",
    "- However, when looking at duplicates for columns subsets (excluding only ad view date and number of sessions per day), it's interesting to notice that 426'157 events are constituted by the same users that visit the same job ad more than once, in different dates."
   ]
  },
  {
   "cell_type": "code",
   "execution_count": null,
   "id": "10a47021",
   "metadata": {},
   "outputs": [],
   "source": [
    "# Check duplicates on entire columns\n",
    "df.duplicated().sum()"
   ]
  },
  {
   "cell_type": "code",
   "execution_count": null,
   "id": "7aaba114",
   "metadata": {},
   "outputs": [],
   "source": [
    "# Check duplicates excluding date and number of sessions\n",
    "df.duplicated(subset=['userId', 'jobId', 'loggedIn', 'place', 'zip', 'title', 'sector', 'workregion', 'pub_datum']).sum()"
   ]
  },
  {
   "cell_type": "markdown",
   "id": "9c9cbd58",
   "metadata": {},
   "source": [
    "### Encoding and feature engineering"
   ]
  },
  {
   "cell_type": "code",
   "execution_count": 8,
   "id": "1f3b53ad",
   "metadata": {},
   "outputs": [],
   "source": [
    "# Encode string features\n",
    "df['loggedIn_num'] = pd.get_dummies(df['loggedIn'], drop_first=True)\n",
    "df['place_num']= df['place'].cat.codes\n",
    "df['sector_num'] = df['sector'].cat.codes\n",
    "\n",
    "# Adjust date format publication date\n",
    "df['pub_date'] = pd.to_datetime(df['pub_datum']).dt.date\n",
    "df['pub_date'] = pd.to_datetime(df['pub_date'])\n",
    "\n",
    "## Create new features\n",
    "# Days passed between publication and visit\n",
    "df['pub_visit_days'] = (df['dateYM'] - df['pub_date']).dt.days"
   ]
  },
  {
   "cell_type": "markdown",
   "id": "48b71055",
   "metadata": {},
   "source": [
    "## 2) Exploratory Data Analysis"
   ]
  },
  {
   "cell_type": "markdown",
   "id": "4c03089d",
   "metadata": {},
   "source": [
    "### 2.1) How many clicks does a user make? In how many different regions?"
   ]
  },
  {
   "cell_type": "code",
   "execution_count": 9,
   "id": "8213b213",
   "metadata": {},
   "outputs": [
    {
     "data": {
      "text/html": [
       "<div>\n",
       "<style scoped>\n",
       "    .dataframe tbody tr th:only-of-type {\n",
       "        vertical-align: middle;\n",
       "    }\n",
       "\n",
       "    .dataframe tbody tr th {\n",
       "        vertical-align: top;\n",
       "    }\n",
       "\n",
       "    .dataframe thead tr th {\n",
       "        text-align: left;\n",
       "    }\n",
       "\n",
       "    .dataframe thead tr:last-of-type th {\n",
       "        text-align: right;\n",
       "    }\n",
       "</style>\n",
       "<table border=\"1\" class=\"dataframe\">\n",
       "  <thead>\n",
       "    <tr>\n",
       "      <th></th>\n",
       "      <th colspan=\"2\" halign=\"left\">jobId</th>\n",
       "      <th>nsession</th>\n",
       "      <th>place</th>\n",
       "      <th>sector</th>\n",
       "      <th>title</th>\n",
       "      <th>pub_visit_days</th>\n",
       "    </tr>\n",
       "    <tr>\n",
       "      <th></th>\n",
       "      <th>count</th>\n",
       "      <th>nunique</th>\n",
       "      <th>sum</th>\n",
       "      <th>nunique</th>\n",
       "      <th>nunique</th>\n",
       "      <th>nunique</th>\n",
       "      <th>mean</th>\n",
       "    </tr>\n",
       "    <tr>\n",
       "      <th>userId</th>\n",
       "      <th></th>\n",
       "      <th></th>\n",
       "      <th></th>\n",
       "      <th></th>\n",
       "      <th></th>\n",
       "      <th></th>\n",
       "      <th></th>\n",
       "    </tr>\n",
       "  </thead>\n",
       "  <tbody>\n",
       "    <tr>\n",
       "      <th>00000000-2966-46d5-ffff-ffffc41afe34</th>\n",
       "      <td>1</td>\n",
       "      <td>1</td>\n",
       "      <td>1</td>\n",
       "      <td>1</td>\n",
       "      <td>1</td>\n",
       "      <td>1</td>\n",
       "      <td>0.000000</td>\n",
       "    </tr>\n",
       "    <tr>\n",
       "      <th>00000000-2966-bb95-ffff-ffffb02a6c56</th>\n",
       "      <td>6</td>\n",
       "      <td>6</td>\n",
       "      <td>6</td>\n",
       "      <td>5</td>\n",
       "      <td>5</td>\n",
       "      <td>6</td>\n",
       "      <td>6.500000</td>\n",
       "    </tr>\n",
       "    <tr>\n",
       "      <th>00000000-31e3-9de1-0000-00001c908cca</th>\n",
       "      <td>2</td>\n",
       "      <td>2</td>\n",
       "      <td>2</td>\n",
       "      <td>2</td>\n",
       "      <td>2</td>\n",
       "      <td>2</td>\n",
       "      <td>16.000000</td>\n",
       "    </tr>\n",
       "    <tr>\n",
       "      <th>00000000-31e3-9de1-0000-000068f0c4fb</th>\n",
       "      <td>1</td>\n",
       "      <td>1</td>\n",
       "      <td>1</td>\n",
       "      <td>1</td>\n",
       "      <td>1</td>\n",
       "      <td>1</td>\n",
       "      <td>6.000000</td>\n",
       "    </tr>\n",
       "    <tr>\n",
       "      <th>00000a72-5e0b-4b32-a7b8-9be1a6b2884e</th>\n",
       "      <td>2</td>\n",
       "      <td>2</td>\n",
       "      <td>2</td>\n",
       "      <td>1</td>\n",
       "      <td>1</td>\n",
       "      <td>2</td>\n",
       "      <td>4.000000</td>\n",
       "    </tr>\n",
       "    <tr>\n",
       "      <th>...</th>\n",
       "      <td>...</td>\n",
       "      <td>...</td>\n",
       "      <td>...</td>\n",
       "      <td>...</td>\n",
       "      <td>...</td>\n",
       "      <td>...</td>\n",
       "      <td>...</td>\n",
       "    </tr>\n",
       "    <tr>\n",
       "      <th>ffffffff-f636-456a-0000-000047d5e7d7</th>\n",
       "      <td>3</td>\n",
       "      <td>3</td>\n",
       "      <td>3</td>\n",
       "      <td>3</td>\n",
       "      <td>2</td>\n",
       "      <td>3</td>\n",
       "      <td>11.333333</td>\n",
       "    </tr>\n",
       "    <tr>\n",
       "      <th>ffffffff-f636-456a-0000-0000641540eb</th>\n",
       "      <td>2</td>\n",
       "      <td>2</td>\n",
       "      <td>2</td>\n",
       "      <td>2</td>\n",
       "      <td>1</td>\n",
       "      <td>2</td>\n",
       "      <td>15.500000</td>\n",
       "    </tr>\n",
       "    <tr>\n",
       "      <th>ffffffff-f636-456a-0000-00006d8e5aa7</th>\n",
       "      <td>1</td>\n",
       "      <td>1</td>\n",
       "      <td>1</td>\n",
       "      <td>1</td>\n",
       "      <td>1</td>\n",
       "      <td>1</td>\n",
       "      <td>5.000000</td>\n",
       "    </tr>\n",
       "    <tr>\n",
       "      <th>ffffffff-f636-456a-ffff-ffffd4097768</th>\n",
       "      <td>2</td>\n",
       "      <td>2</td>\n",
       "      <td>2</td>\n",
       "      <td>2</td>\n",
       "      <td>2</td>\n",
       "      <td>2</td>\n",
       "      <td>16.000000</td>\n",
       "    </tr>\n",
       "    <tr>\n",
       "      <th>ffffffff-f636-456a-ffff-ffffd5d47ee1</th>\n",
       "      <td>97</td>\n",
       "      <td>76</td>\n",
       "      <td>97</td>\n",
       "      <td>16</td>\n",
       "      <td>17</td>\n",
       "      <td>70</td>\n",
       "      <td>2.082474</td>\n",
       "    </tr>\n",
       "  </tbody>\n",
       "</table>\n",
       "<p>782084 rows × 7 columns</p>\n",
       "</div>"
      ],
      "text/plain": [
       "                                     jobId         nsession   place  sector  \\\n",
       "                                     count nunique      sum nunique nunique   \n",
       "userId                                                                        \n",
       "00000000-2966-46d5-ffff-ffffc41afe34     1       1        1       1       1   \n",
       "00000000-2966-bb95-ffff-ffffb02a6c56     6       6        6       5       5   \n",
       "00000000-31e3-9de1-0000-00001c908cca     2       2        2       2       2   \n",
       "00000000-31e3-9de1-0000-000068f0c4fb     1       1        1       1       1   \n",
       "00000a72-5e0b-4b32-a7b8-9be1a6b2884e     2       2        2       1       1   \n",
       "...                                    ...     ...      ...     ...     ...   \n",
       "ffffffff-f636-456a-0000-000047d5e7d7     3       3        3       3       2   \n",
       "ffffffff-f636-456a-0000-0000641540eb     2       2        2       2       1   \n",
       "ffffffff-f636-456a-0000-00006d8e5aa7     1       1        1       1       1   \n",
       "ffffffff-f636-456a-ffff-ffffd4097768     2       2        2       2       2   \n",
       "ffffffff-f636-456a-ffff-ffffd5d47ee1    97      76       97      16      17   \n",
       "\n",
       "                                       title pub_visit_days  \n",
       "                                     nunique           mean  \n",
       "userId                                                       \n",
       "00000000-2966-46d5-ffff-ffffc41afe34       1       0.000000  \n",
       "00000000-2966-bb95-ffff-ffffb02a6c56       6       6.500000  \n",
       "00000000-31e3-9de1-0000-00001c908cca       2      16.000000  \n",
       "00000000-31e3-9de1-0000-000068f0c4fb       1       6.000000  \n",
       "00000a72-5e0b-4b32-a7b8-9be1a6b2884e       2       4.000000  \n",
       "...                                      ...            ...  \n",
       "ffffffff-f636-456a-0000-000047d5e7d7       3      11.333333  \n",
       "ffffffff-f636-456a-0000-0000641540eb       2      15.500000  \n",
       "ffffffff-f636-456a-0000-00006d8e5aa7       1       5.000000  \n",
       "ffffffff-f636-456a-ffff-ffffd4097768       2      16.000000  \n",
       "ffffffff-f636-456a-ffff-ffffd5d47ee1      70       2.082474  \n",
       "\n",
       "[782084 rows x 7 columns]"
      ]
     },
     "metadata": {},
     "output_type": "display_data"
    },
    {
     "data": {
      "text/html": [
       "<div>\n",
       "<style scoped>\n",
       "    .dataframe tbody tr th:only-of-type {\n",
       "        vertical-align: middle;\n",
       "    }\n",
       "\n",
       "    .dataframe tbody tr th {\n",
       "        vertical-align: top;\n",
       "    }\n",
       "\n",
       "    .dataframe thead tr th {\n",
       "        text-align: left;\n",
       "    }\n",
       "</style>\n",
       "<table border=\"1\" class=\"dataframe\">\n",
       "  <thead>\n",
       "    <tr>\n",
       "      <th></th>\n",
       "      <th colspan=\"2\" halign=\"left\">jobId</th>\n",
       "      <th>nsession</th>\n",
       "      <th>place</th>\n",
       "      <th>sector</th>\n",
       "      <th>title</th>\n",
       "      <th>pub_visit_days</th>\n",
       "    </tr>\n",
       "    <tr>\n",
       "      <th></th>\n",
       "      <th>count</th>\n",
       "      <th>nunique</th>\n",
       "      <th>sum</th>\n",
       "      <th>nunique</th>\n",
       "      <th>nunique</th>\n",
       "      <th>nunique</th>\n",
       "      <th>mean</th>\n",
       "    </tr>\n",
       "  </thead>\n",
       "  <tbody>\n",
       "    <tr>\n",
       "      <th>count</th>\n",
       "      <td>782084.00</td>\n",
       "      <td>782084.00</td>\n",
       "      <td>782084.00</td>\n",
       "      <td>782084.00</td>\n",
       "      <td>782084.00</td>\n",
       "      <td>782084.00</td>\n",
       "      <td>782084.00</td>\n",
       "    </tr>\n",
       "    <tr>\n",
       "      <th>mean</th>\n",
       "      <td>6.39</td>\n",
       "      <td>5.85</td>\n",
       "      <td>6.63</td>\n",
       "      <td>2.55</td>\n",
       "      <td>2.63</td>\n",
       "      <td>5.75</td>\n",
       "      <td>11.60</td>\n",
       "    </tr>\n",
       "    <tr>\n",
       "      <th>std</th>\n",
       "      <td>31.29</td>\n",
       "      <td>26.64</td>\n",
       "      <td>33.63</td>\n",
       "      <td>3.99</td>\n",
       "      <td>3.44</td>\n",
       "      <td>24.95</td>\n",
       "      <td>8.63</td>\n",
       "    </tr>\n",
       "    <tr>\n",
       "      <th>min</th>\n",
       "      <td>1.00</td>\n",
       "      <td>1.00</td>\n",
       "      <td>1.00</td>\n",
       "      <td>1.00</td>\n",
       "      <td>1.00</td>\n",
       "      <td>1.00</td>\n",
       "      <td>-44.00</td>\n",
       "    </tr>\n",
       "    <tr>\n",
       "      <th>25%</th>\n",
       "      <td>1.00</td>\n",
       "      <td>1.00</td>\n",
       "      <td>1.00</td>\n",
       "      <td>1.00</td>\n",
       "      <td>1.00</td>\n",
       "      <td>1.00</td>\n",
       "      <td>4.50</td>\n",
       "    </tr>\n",
       "    <tr>\n",
       "      <th>50%</th>\n",
       "      <td>1.00</td>\n",
       "      <td>1.00</td>\n",
       "      <td>1.00</td>\n",
       "      <td>1.00</td>\n",
       "      <td>1.00</td>\n",
       "      <td>1.00</td>\n",
       "      <td>11.00</td>\n",
       "    </tr>\n",
       "    <tr>\n",
       "      <th>75%</th>\n",
       "      <td>4.00</td>\n",
       "      <td>3.00</td>\n",
       "      <td>4.00</td>\n",
       "      <td>2.00</td>\n",
       "      <td>3.00</td>\n",
       "      <td>3.00</td>\n",
       "      <td>18.83</td>\n",
       "    </tr>\n",
       "    <tr>\n",
       "      <th>max</th>\n",
       "      <td>16186.00</td>\n",
       "      <td>13638.00</td>\n",
       "      <td>18235.00</td>\n",
       "      <td>207.00</td>\n",
       "      <td>25.00</td>\n",
       "      <td>12265.00</td>\n",
       "      <td>240.00</td>\n",
       "    </tr>\n",
       "  </tbody>\n",
       "</table>\n",
       "</div>"
      ],
      "text/plain": [
       "           jobId              nsession      place     sector      title  \\\n",
       "           count    nunique        sum    nunique    nunique    nunique   \n",
       "count  782084.00  782084.00  782084.00  782084.00  782084.00  782084.00   \n",
       "mean        6.39       5.85       6.63       2.55       2.63       5.75   \n",
       "std        31.29      26.64      33.63       3.99       3.44      24.95   \n",
       "min         1.00       1.00       1.00       1.00       1.00       1.00   \n",
       "25%         1.00       1.00       1.00       1.00       1.00       1.00   \n",
       "50%         1.00       1.00       1.00       1.00       1.00       1.00   \n",
       "75%         4.00       3.00       4.00       2.00       3.00       3.00   \n",
       "max     16186.00   13638.00   18235.00     207.00      25.00   12265.00   \n",
       "\n",
       "      pub_visit_days  \n",
       "                mean  \n",
       "count      782084.00  \n",
       "mean           11.60  \n",
       "std             8.63  \n",
       "min           -44.00  \n",
       "25%             4.50  \n",
       "50%            11.00  \n",
       "75%            18.83  \n",
       "max           240.00  "
      ]
     },
     "metadata": {},
     "output_type": "display_data"
    }
   ],
   "source": [
    "# Groupby userId\n",
    "user_g = df.groupby('userId').agg({'jobId': ['count', 'nunique'], # Number of clicks per user, Number of clicks on unique ads per user\n",
    "                                   'nsession': 'sum',  # Total number of sessions\n",
    "                                   'place': 'nunique', # Number of unique regions clicked\n",
    "                                   'sector': 'nunique', # Number of unique sectors clicked\n",
    "                                   'title': 'nunique', # Number of unique job titles clicked\n",
    "                                   'pub_visit_days' : 'mean' # Average number of days between publication and click\n",
    "                                  })\n",
    "\n",
    "display(user_g)\n",
    "display(round(user_g.describe(), 2))"
   ]
  },
  {
   "cell_type": "markdown",
   "id": "39d55eeb",
   "metadata": {},
   "source": [
    "### The data presents ouliers, so it must be cleaned removing observations with z-score > 3"
   ]
  },
  {
   "cell_type": "code",
   "execution_count": 10,
   "id": "4c00c90e",
   "metadata": {},
   "outputs": [
    {
     "data": {
      "text/html": [
       "<div>\n",
       "<style scoped>\n",
       "    .dataframe tbody tr th:only-of-type {\n",
       "        vertical-align: middle;\n",
       "    }\n",
       "\n",
       "    .dataframe tbody tr th {\n",
       "        vertical-align: top;\n",
       "    }\n",
       "\n",
       "    .dataframe thead tr th {\n",
       "        text-align: left;\n",
       "    }\n",
       "</style>\n",
       "<table border=\"1\" class=\"dataframe\">\n",
       "  <thead>\n",
       "    <tr>\n",
       "      <th></th>\n",
       "      <th colspan=\"2\" halign=\"left\">jobId</th>\n",
       "      <th>nsession</th>\n",
       "      <th>place</th>\n",
       "      <th>sector</th>\n",
       "      <th>title</th>\n",
       "      <th>pub_visit_days</th>\n",
       "    </tr>\n",
       "    <tr>\n",
       "      <th></th>\n",
       "      <th>count</th>\n",
       "      <th>nunique</th>\n",
       "      <th>sum</th>\n",
       "      <th>nunique</th>\n",
       "      <th>nunique</th>\n",
       "      <th>nunique</th>\n",
       "      <th>mean</th>\n",
       "    </tr>\n",
       "  </thead>\n",
       "  <tbody>\n",
       "    <tr>\n",
       "      <th>count</th>\n",
       "      <td>751129.00</td>\n",
       "      <td>751129.00</td>\n",
       "      <td>751129.00</td>\n",
       "      <td>751129.00</td>\n",
       "      <td>751129.00</td>\n",
       "      <td>751129.00</td>\n",
       "      <td>751129.00</td>\n",
       "    </tr>\n",
       "    <tr>\n",
       "      <th>mean</th>\n",
       "      <td>3.37</td>\n",
       "      <td>3.17</td>\n",
       "      <td>3.48</td>\n",
       "      <td>1.98</td>\n",
       "      <td>2.10</td>\n",
       "      <td>3.15</td>\n",
       "      <td>11.77</td>\n",
       "    </tr>\n",
       "    <tr>\n",
       "      <th>std</th>\n",
       "      <td>5.32</td>\n",
       "      <td>4.93</td>\n",
       "      <td>5.55</td>\n",
       "      <td>1.99</td>\n",
       "      <td>2.13</td>\n",
       "      <td>4.86</td>\n",
       "      <td>8.57</td>\n",
       "    </tr>\n",
       "    <tr>\n",
       "      <th>min</th>\n",
       "      <td>1.00</td>\n",
       "      <td>1.00</td>\n",
       "      <td>1.00</td>\n",
       "      <td>1.00</td>\n",
       "      <td>1.00</td>\n",
       "      <td>1.00</td>\n",
       "      <td>-14.30</td>\n",
       "    </tr>\n",
       "    <tr>\n",
       "      <th>25%</th>\n",
       "      <td>1.00</td>\n",
       "      <td>1.00</td>\n",
       "      <td>1.00</td>\n",
       "      <td>1.00</td>\n",
       "      <td>1.00</td>\n",
       "      <td>1.00</td>\n",
       "      <td>4.50</td>\n",
       "    </tr>\n",
       "    <tr>\n",
       "      <th>50%</th>\n",
       "      <td>1.00</td>\n",
       "      <td>1.00</td>\n",
       "      <td>1.00</td>\n",
       "      <td>1.00</td>\n",
       "      <td>1.00</td>\n",
       "      <td>1.00</td>\n",
       "      <td>11.00</td>\n",
       "    </tr>\n",
       "    <tr>\n",
       "      <th>75%</th>\n",
       "      <td>3.00</td>\n",
       "      <td>3.00</td>\n",
       "      <td>3.00</td>\n",
       "      <td>2.00</td>\n",
       "      <td>2.00</td>\n",
       "      <td>3.00</td>\n",
       "      <td>19.00</td>\n",
       "    </tr>\n",
       "    <tr>\n",
       "      <th>max</th>\n",
       "      <td>100.00</td>\n",
       "      <td>81.00</td>\n",
       "      <td>107.00</td>\n",
       "      <td>14.00</td>\n",
       "      <td>12.00</td>\n",
       "      <td>79.00</td>\n",
       "      <td>37.40</td>\n",
       "    </tr>\n",
       "  </tbody>\n",
       "</table>\n",
       "</div>"
      ],
      "text/plain": [
       "           jobId              nsession      place     sector      title  \\\n",
       "           count    nunique        sum    nunique    nunique    nunique   \n",
       "count  751129.00  751129.00  751129.00  751129.00  751129.00  751129.00   \n",
       "mean        3.37       3.17       3.48       1.98       2.10       3.15   \n",
       "std         5.32       4.93       5.55       1.99       2.13       4.86   \n",
       "min         1.00       1.00       1.00       1.00       1.00       1.00   \n",
       "25%         1.00       1.00       1.00       1.00       1.00       1.00   \n",
       "50%         1.00       1.00       1.00       1.00       1.00       1.00   \n",
       "75%         3.00       3.00       3.00       2.00       2.00       3.00   \n",
       "max       100.00      81.00     107.00      14.00      12.00      79.00   \n",
       "\n",
       "      pub_visit_days  \n",
       "                mean  \n",
       "count      751129.00  \n",
       "mean           11.77  \n",
       "std             8.57  \n",
       "min           -14.30  \n",
       "25%             4.50  \n",
       "50%            11.00  \n",
       "75%            19.00  \n",
       "max            37.40  "
      ]
     },
     "metadata": {},
     "output_type": "display_data"
    }
   ],
   "source": [
    "from scipy import stats\n",
    "\n",
    "# Filter for outliers \n",
    "#user_filt = user_g[(np.abs(stats.zscore(user_g[('jobId', 'count')])) < 3)]\n",
    "\n",
    "user_filt = user_g[(np.abs(stats.zscore(user_g)) < 3).all(axis=1)]\n",
    "non_outliers = list(user_filt.index)\n",
    "display(round(user_filt.describe(),2))"
   ]
  },
  {
   "cell_type": "markdown",
   "id": "b92b25cc",
   "metadata": {},
   "source": [
    "### 2.2) Which are the most clicked jobs, sectors and work regions?"
   ]
  },
  {
   "cell_type": "code",
   "execution_count": 12,
   "id": "be383e95",
   "metadata": {
    "jupyter": {
     "source_hidden": true
    }
   },
   "outputs": [
    {
     "name": "stdout",
     "output_type": "stream",
     "text": [
      "Clicks events (excluding userId outliers): 2529129 \n",
      "\n",
      "Clicks events (with userId outliers): 5000486 \n",
      "\n"
     ]
    }
   ],
   "source": [
    "print('Clicks events (excluding userId outliers):', len(df[df['userId'].isin(non_outliers)]), '\\n')\n",
    "print('Unique userId (excluding userId outliers):', df[df['userId'].isin(non_outliers)]['jobId'].nunique(), '\\n')\n",
    "print('Clicks events (with userId outliers):', len(df), '\\n')"
   ]
  },
  {
   "cell_type": "markdown",
   "id": "411863e0",
   "metadata": {},
   "source": [
    "### Most clicked job titles"
   ]
  },
  {
   "cell_type": "code",
   "execution_count": null,
   "id": "cc947781",
   "metadata": {
    "jupyter": {
     "source_hidden": true
    }
   },
   "outputs": [],
   "source": [
    "## Top 10 countries by ESG score bar chart\n",
    "\n",
    "data = df[df['userId'].isin(non_outliers)]['title'].value_counts().head(10).values\n",
    "lbls = df[df['userId'].isin(non_outliers)]['title'].value_counts().head(10).index\n",
    "\n",
    "# Plot\n",
    "plt.style.use('ggplot')#set style\n",
    "plt.rcParams[\"font.size\"] = 11 # set default font size\n",
    "\n",
    "fig = plt.figure(figsize=(15, 8))#set subplot and fig size\n",
    "\n",
    "plt.bar(np.arange(10), data, color=sns.color_palette(\"plasma\", 10))\n",
    "plt.xticks(np.arange(10), lbls, rotation=45, ha=\"right\")\n",
    "plt.ylabel('Number')\n",
    "#plt.title('Top 10 countries by ESG score')\n",
    "\n",
    "plt.show()"
   ]
  },
  {
   "cell_type": "code",
   "execution_count": 13,
   "id": "295089c4",
   "metadata": {},
   "outputs": [
    {
     "data": {
      "text/plain": [
       "Elektro-Projektleiter 80 - 100% (m/w)                                           152498\n",
       "Sachbearbeiter (100% m/w) Quereinstieg Finanzen neue Herausforderung             39047\n",
       "Junior-Projektleiter Elektroinstallationen (m/w)                                 18726\n",
       "Sachbearbeiter Familienzulagen (w/m) 80 - 100%                                   14880\n",
       "Stv. Bauleitender Elektroinstallateur 80 - 100% (m/w)                             8526\n",
       "Medical Performance Manager 50% - 70%                                             6123\n",
       "Netzelektriker (m/w)                                                              5574\n",
       "Applikationsverantwortliche/r KIS &amp; Umsysteme 100%                            4720\n",
       "Mitarbeiterin Verkauf und Service 50%                                             4681\n",
       "Immobilienmakler/in                                                               4516\n",
       "Mitarbeiter Gepäcksortierung & Flugzeugabfertigung 20-80%                         4211\n",
       "Immobilienbewirtschafter/in mit Eidg. FA                                          3763\n",
       "Projektleiter Elektroinstallationen 100% (m/w)                                    3539\n",
       "Aushilfe VerkäuferIn                                                              3279\n",
       "Ingenieur / Techniker «Standards & Certification»                                 3257\n",
       "Fachspezialist Steuerung 100% (m/w)                                               3205\n",
       "FachberaterIn Arbeitsintegration 70-90%                                           3186\n",
       "Fachmitarbeiter/-in für den agogischen und pflegerischen Bereich (60 -100 %)      3078\n",
       "Gebäudetechnikplaner (m/w)  Fachrichtung Sanitär                                  2469\n",
       "Projektleiter Bahntunnelsanierungen                                               2466\n",
       "Name: title, dtype: int64"
      ]
     },
     "execution_count": 13,
     "metadata": {},
     "output_type": "execute_result"
    }
   ],
   "source": [
    "df[df['userId'].isin(non_outliers)]['title'].value_counts().head(20)"
   ]
  },
  {
   "cell_type": "code",
   "execution_count": null,
   "id": "ea8574e3",
   "metadata": {
    "jupyter": {
     "source_hidden": true
    }
   },
   "outputs": [],
   "source": [
    "df['title'].value_counts().head(20)"
   ]
  },
  {
   "cell_type": "code",
   "execution_count": null,
   "id": "8fe69968",
   "metadata": {
    "jupyter": {
     "source_hidden": true
    }
   },
   "outputs": [],
   "source": [
    "sectors = df[df['userId'].isin(non_outliers)]['sector'].value_counts().head(10).to_frame().reset_index()\n",
    "sectors.rename(columns={'index': 'Sectors', 'sector': 'Clicks'}, inplace=True)\n",
    "sectors"
   ]
  },
  {
   "cell_type": "markdown",
   "id": "b594f6e6",
   "metadata": {},
   "source": [
    "### Most clicked sectors"
   ]
  },
  {
   "cell_type": "code",
   "execution_count": 14,
   "id": "5ba5dc2b",
   "metadata": {},
   "outputs": [
    {
     "data": {
      "text/plain": [
       "jobsse-2     346132\n",
       "jobsse-12    293746\n",
       "jobsse-10    279266\n",
       "jobsse-7     199148\n",
       "jobsse-6     192519\n",
       "jobsse-16    177032\n",
       "jobsse-0      98348\n",
       "jobsse-1      96096\n",
       "jobsse-13     93637\n",
       "jobsse-18     90420\n",
       "Name: sector, dtype: int64"
      ]
     },
     "execution_count": 14,
     "metadata": {},
     "output_type": "execute_result"
    }
   ],
   "source": [
    "df[df['userId'].isin(non_outliers)]['sector'].value_counts().head(10)"
   ]
  },
  {
   "cell_type": "code",
   "execution_count": null,
   "id": "9019091d",
   "metadata": {
    "jupyter": {
     "source_hidden": true
    }
   },
   "outputs": [],
   "source": [
    "df['sector'].value_counts().head(10)"
   ]
  },
  {
   "cell_type": "code",
   "execution_count": 20,
   "id": "b66df8ad",
   "metadata": {},
   "outputs": [
    {
     "data": {
      "text/plain": [
       "Sachbearbeiter (100% m/w) Quereinstieg Finanzen neue Herausforderung          39968\n",
       "Fachspezialist Steuerung 100% (m/w)                                            3264\n",
       "Quereinsteiger als Verkaufsberater Innen-& Aussendienst 80-100% (m/w)          1448\n",
       "Recruiting Partner (80-100%)                                                   1389\n",
       "Mitarbeiter Empfang und Administration w/m (40%)                               1176\n",
       "Mitarbeiter Produktion (m/w)                                                   1129\n",
       "Sachbearbeiter technischer Kundenservice im Pensum von 60 bis 70 % (m/w)       1098\n",
       "Leiter Operations (m/w)  Mitglied der Geschäftsleitung                         1027\n",
       "Key Account Manager (m/w) Umweltsensorik                                        999\n",
       "Sachbearbeiter Service Innendienst PoU (w/m/d)                                  986\n",
       "SachbearbeiterIn Innendienst 100%                                               958\n",
       "Projektleiter (m/w) Digital Marketing                                           949\n",
       "Mitarbeiter Telesales - Outbound und Kundenbetreuung B2B (m/w)                  949\n",
       "ProduktionsmitarbeiterIn in Richterswil 100%                                    948\n",
       "Chauffeur B mit Ausweis Kategorie C/CE (w/m) in unserer Transportabteilung      912\n",
       "CEO (m/w/d)                                                                     909\n",
       "Produktionsmitarbeiter (m/w), 100%                                              885\n",
       "Geschäftsleiter/in Hinni                                                        872\n",
       "Hilfsarbeiter Reinigung 80-100%                                                 849\n",
       "Technischer Einkäufer (m/w)                                                     801\n",
       "Name: title, dtype: int64"
      ]
     },
     "execution_count": 20,
     "metadata": {},
     "output_type": "execute_result"
    }
   ],
   "source": [
    "df[df['sector'] == 'jobsse-12']['title'].value_counts().head(20)"
   ]
  },
  {
   "cell_type": "markdown",
   "id": "d78f856b",
   "metadata": {},
   "source": [
    "### Most clicked regions"
   ]
  },
  {
   "cell_type": "code",
   "execution_count": 15,
   "id": "ad732598",
   "metadata": {},
   "outputs": [
    {
     "data": {
      "text/plain": [
       "Zürich         374885\n",
       "Basel          371878\n",
       "Zollikofen     308744\n",
       "Zug            221844\n",
       "Brügg          201475\n",
       "Wallisellen     73802\n",
       "Regensdorf      69109\n",
       "Beringen        69100\n",
       "Glattbrugg      54380\n",
       "Renens          48227\n",
       "Name: place, dtype: int64"
      ]
     },
     "execution_count": 15,
     "metadata": {},
     "output_type": "execute_result"
    }
   ],
   "source": [
    "df[df['userId'].isin(non_outliers)]['place'].value_counts().head(10)"
   ]
  },
  {
   "cell_type": "code",
   "execution_count": null,
   "id": "9cab1fa8",
   "metadata": {
    "jupyter": {
     "source_hidden": true
    }
   },
   "outputs": [],
   "source": [
    "df['place'].value_counts().head(30)"
   ]
  },
  {
   "cell_type": "markdown",
   "id": "38ef9a65",
   "metadata": {},
   "source": [
    "### 2.3) Are there differences between logged-in users and anonymous sessions?"
   ]
  },
  {
   "cell_type": "code",
   "execution_count": 17,
   "id": "09f1b4d4",
   "metadata": {},
   "outputs": [
    {
     "data": {
      "text/html": [
       "<div>\n",
       "<style scoped>\n",
       "    .dataframe tbody tr th:only-of-type {\n",
       "        vertical-align: middle;\n",
       "    }\n",
       "\n",
       "    .dataframe tbody tr th {\n",
       "        vertical-align: top;\n",
       "    }\n",
       "\n",
       "    .dataframe thead th {\n",
       "        text-align: right;\n",
       "    }\n",
       "</style>\n",
       "<table border=\"1\" class=\"dataframe\">\n",
       "  <thead>\n",
       "    <tr style=\"text-align: right;\">\n",
       "      <th></th>\n",
       "      <th>loggedIn</th>\n",
       "      <th>userId</th>\n",
       "      <th>jobId</th>\n",
       "      <th>nsession</th>\n",
       "      <th>title</th>\n",
       "      <th>sector</th>\n",
       "      <th>pub_visit_days</th>\n",
       "      <th>avg_click_per_user</th>\n",
       "      <th>avg_unique_job_per_user</th>\n",
       "    </tr>\n",
       "    <tr>\n",
       "      <th>loggedIn</th>\n",
       "      <th></th>\n",
       "      <th></th>\n",
       "      <th></th>\n",
       "      <th></th>\n",
       "      <th></th>\n",
       "      <th></th>\n",
       "      <th></th>\n",
       "      <th></th>\n",
       "      <th></th>\n",
       "    </tr>\n",
       "  </thead>\n",
       "  <tbody>\n",
       "    <tr>\n",
       "      <th>True</th>\n",
       "      <td>516196</td>\n",
       "      <td>43147</td>\n",
       "      <td>56528</td>\n",
       "      <td>1.05</td>\n",
       "      <td>42088</td>\n",
       "      <td>25</td>\n",
       "      <td>6.50</td>\n",
       "      <td>11.96</td>\n",
       "      <td>1.31</td>\n",
       "    </tr>\n",
       "    <tr>\n",
       "      <th>False</th>\n",
       "      <td>2012933</td>\n",
       "      <td>707982</td>\n",
       "      <td>29735</td>\n",
       "      <td>1.03</td>\n",
       "      <td>25593</td>\n",
       "      <td>25</td>\n",
       "      <td>10.95</td>\n",
       "      <td>2.84</td>\n",
       "      <td>0.04</td>\n",
       "    </tr>\n",
       "  </tbody>\n",
       "</table>\n",
       "</div>"
      ],
      "text/plain": [
       "          loggedIn  userId  jobId  nsession  title  sector  pub_visit_days  \\\n",
       "loggedIn                                                                     \n",
       "True        516196   43147  56528      1.05  42088      25            6.50   \n",
       "False      2012933  707982  29735      1.03  25593      25           10.95   \n",
       "\n",
       "          avg_click_per_user  avg_unique_job_per_user  \n",
       "loggedIn                                               \n",
       "True                   11.96                     1.31  \n",
       "False                   2.84                     0.04  "
      ]
     },
     "metadata": {},
     "output_type": "display_data"
    }
   ],
   "source": [
    "# Groupby loggedIn\n",
    "logged_g = df[df['userId'].isin(non_outliers)].groupby(['loggedIn']).agg({'loggedIn': 'count',\n",
    "                                                                          'userId': 'nunique',\n",
    "                                                                          'jobId' :'nunique',\n",
    "                                                                          'nsession' : 'mean',\n",
    "                                                                          'title': 'nunique',\n",
    "                                                                          'sector': 'nunique',\n",
    "                                                                          'pub_visit_days' : 'mean'}).sort_values('nsession', ascending=False)\n",
    "\n",
    "\n",
    "logged_g['avg_click_per_user'] = logged_g['loggedIn']/logged_g['userId']\n",
    "logged_g['avg_unique_job_per_user'] = logged_g['jobId']/logged_g['userId']\n",
    "\n",
    "display(round(logged_g, 2))"
   ]
  },
  {
   "cell_type": "code",
   "execution_count": 19,
   "id": "35d9dacc",
   "metadata": {},
   "outputs": [
    {
     "data": {
      "text/html": [
       "<div>\n",
       "<style scoped>\n",
       "    .dataframe tbody tr th:only-of-type {\n",
       "        vertical-align: middle;\n",
       "    }\n",
       "\n",
       "    .dataframe tbody tr th {\n",
       "        vertical-align: top;\n",
       "    }\n",
       "\n",
       "    .dataframe thead th {\n",
       "        text-align: right;\n",
       "    }\n",
       "</style>\n",
       "<table border=\"1\" class=\"dataframe\">\n",
       "  <thead>\n",
       "    <tr style=\"text-align: right;\">\n",
       "      <th></th>\n",
       "      <th>loggedIn</th>\n",
       "      <th>Clicks</th>\n",
       "      <th>Unique_users</th>\n",
       "      <th>nsession</th>\n",
       "      <th>pub_visit_days</th>\n",
       "      <th>avg_click_per_user</th>\n",
       "    </tr>\n",
       "  </thead>\n",
       "  <tbody>\n",
       "    <tr>\n",
       "      <th>0</th>\n",
       "      <td>True</td>\n",
       "      <td>516196</td>\n",
       "      <td>43147</td>\n",
       "      <td>1.052767</td>\n",
       "      <td>6.501027</td>\n",
       "      <td>11.963659</td>\n",
       "    </tr>\n",
       "    <tr>\n",
       "      <th>1</th>\n",
       "      <td>False</td>\n",
       "      <td>2012933</td>\n",
       "      <td>707982</td>\n",
       "      <td>1.030051</td>\n",
       "      <td>10.954522</td>\n",
       "      <td>2.843198</td>\n",
       "    </tr>\n",
       "  </tbody>\n",
       "</table>\n",
       "</div>"
      ],
      "text/plain": [
       "   loggedIn   Clicks  Unique_users  nsession  pub_visit_days  \\\n",
       "0      True   516196         43147  1.052767        6.501027   \n",
       "1     False  2012933        707982  1.030051       10.954522   \n",
       "\n",
       "   avg_click_per_user  \n",
       "0           11.963659  \n",
       "1            2.843198  "
      ]
     },
     "execution_count": 19,
     "metadata": {},
     "output_type": "execute_result"
    }
   ],
   "source": [
    "logged_g.rename(columns={'loggedIn': 'Clicks', 'userId': 'Unique_users'}, inplace=True)\n",
    "logged_ch = logged_g.reset_index()[['loggedIn', 'Clicks', 'Unique_users', 'nsession', 'pub_visit_days', 'avg_click_per_user']]\n",
    "logged_ch"
   ]
  },
  {
   "cell_type": "markdown",
   "id": "466cd5f5",
   "metadata": {},
   "source": [
    "### A/B test logged in vs. anonymous"
   ]
  },
  {
   "cell_type": "code",
   "execution_count": 21,
   "id": "21db658e",
   "metadata": {},
   "outputs": [],
   "source": [
    "# Define groups authenticated users vs. anonimous\n",
    "# and calculate the average number of clicks\n",
    "\n",
    "login_users = df[(df['userId'].isin(non_outliers)) & (df['loggedIn'] == True)].groupby('userId').agg({'jobId': ['count', 'nunique'], # Number of clicks per user, Number of clicks on unique ads per user\n",
    "                                   'nsession': 'sum',  # Total number of sessions\n",
    "                                   'place': 'nunique', 'pub_visit_days' : 'mean'  # Number of unique regions\n",
    "                                  })\n",
    "\n",
    "\n",
    "\n",
    "anonym_users = df[(df['userId'].isin(non_outliers)) & (df['loggedIn'] == False)].groupby('userId').agg({'jobId': ['count', 'nunique'], # Number of clicks per user, Number of clicks on unique ads per user\n",
    "                                   'nsession': 'sum',  # Total number of sessions\n",
    "                                   'place': 'nunique', 'pub_visit_days' : 'mean'  # Number of unique regions\n",
    "                                  })\n",
    "\n"
   ]
  },
  {
   "cell_type": "code",
   "execution_count": 22,
   "id": "1557900d",
   "metadata": {},
   "outputs": [
    {
     "name": "stdout",
     "output_type": "stream",
     "text": [
      "Difference in loggedIn/anonymous average number of clicks: \n",
      " MannwhitneyuResult(statistic=25798898879.5, pvalue=0.0) \n",
      "\n",
      "Difference in loggedIn/anonymous click delay from publication: \n",
      " MannwhitneyuResult(statistic=9867877076.0, pvalue=0.0)\n"
     ]
    }
   ],
   "source": [
    "import scipy.stats as stats\n",
    "\n",
    "# Perform two-sided Mann-Whitney U rank test\n",
    "print('Difference in loggedIn/anonymous average number of clicks:', '\\n',\n",
    "      stats.mannwhitneyu(x=login_users[('jobId', 'count')], y=anonym_users[('jobId', 'count')], alternative = 'two-sided'), '\\n')\n",
    "print('Difference in loggedIn/anonymous click delay from publication:', '\\n',\n",
    "      stats.mannwhitneyu(x=login_users[('pub_visit_days', 'mean')], y=anonym_users[('pub_visit_days', 'mean')], alternative = 'two-sided'))"
   ]
  },
  {
   "cell_type": "code",
   "execution_count": null,
   "id": "54bf59cf",
   "metadata": {
    "jupyter": {
     "source_hidden": true
    }
   },
   "outputs": [],
   "source": [
    "ax = sns.histplot(x=anonym_users[('pub_visit_days', 'mean')], kde=True)"
   ]
  },
  {
   "cell_type": "code",
   "execution_count": null,
   "id": "2acf575b",
   "metadata": {
    "jupyter": {
     "source_hidden": true
    }
   },
   "outputs": [],
   "source": [
    "ax = sns.boxplot(x=anonym_users[('jobId', 'count')])"
   ]
  },
  {
   "cell_type": "code",
   "execution_count": null,
   "id": "10453a42",
   "metadata": {
    "jupyter": {
     "source_hidden": true
    }
   },
   "outputs": [],
   "source": [
    "from scipy import stats\n",
    "\n",
    "\n",
    "#login_users_norm = ((login_users-login_users.mean())/login_users.std())\n",
    "#anonym_users_norm = ((anonym_users-anonym_users.mean())/anonym_users.std())\n",
    "\n",
    "ax = sns.histplot(x=login_users[('pub_visit_days', 'mean')], kde=True)"
   ]
  },
  {
   "cell_type": "code",
   "execution_count": null,
   "id": "502d0d96",
   "metadata": {
    "jupyter": {
     "source_hidden": true
    }
   },
   "outputs": [],
   "source": [
    "from scipy.stats import ttest_ind\n",
    "\n",
    "ttest_ind(login_users[('pub_visit_days', 'mean')], anonym_users[('pub_visit_days', 'mean')], equal_var=False)"
   ]
  }
 ],
 "metadata": {
  "kernelspec": {
   "display_name": "Python 3",
   "language": "python",
   "name": "python3"
  },
  "language_info": {
   "codemirror_mode": {
    "name": "ipython",
    "version": 3
   },
   "file_extension": ".py",
   "mimetype": "text/x-python",
   "name": "python",
   "nbconvert_exporter": "python",
   "pygments_lexer": "ipython3",
   "version": "3.6.13"
  }
 },
 "nbformat": 4,
 "nbformat_minor": 5
}
